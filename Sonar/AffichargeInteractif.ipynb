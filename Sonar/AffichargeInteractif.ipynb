{
 "cells": [
  {
   "cell_type": "code",
   "execution_count": 1,
   "metadata": {},
   "outputs": [],
   "source": [
    "import matplotlib.pyplot as plt\n",
    "import math\n",
    "import os #Incompatibilité avec linux possible ? tester une fonction plus robuste\n",
    "from sklearn import cluster, datasets\n",
    "from scipy.cluster.hierarchy import dendrogram, linkage, fcluster\n",
    "from sklearn.neighbors import NearestNeighbors\n",
    "\n",
    "\n",
    "# pour les \"widgets\" Jupyter permettant de régler les valeurs de variables \n",
    "import ipywidgets as widgets  \n",
    "from ipywidgets import interact\n",
    "\n",
    "\n",
    "def Affichage_Interactif(X):\n",
    "    Z = linkage(X,method=\"single\")\n",
    "    maxdist=max(Z[:,2])  # hauteur du dendrogramme \n",
    "    plt.figure(figsize=[10,8])\n",
    "    dendrogram(Z) #,truncate_mode=\"level\",p=10);  # le paramètre p permet éventuellement de ne pas afficher le \"bas\" du dendrogramme, utile pour un grand jeu de données\n",
    "    plt.title('Single linkage dendrogram with scipy')\n",
    "    \n",
    "    \n",
    "    def graphique_clustering_single(nc):\n",
    "        clusters=fcluster(Z, nc, criterion='maxclust') \n",
    "        plt.figure(figsize=[10,8])\n",
    "        plt.scatter(X[:, 0], X[:, 1], s=40, c=clusters, cmap='jet')\n",
    "        plt.title('Single linkage with scipy, n_cluster='+str(nc))\n",
    "\n",
    "    widgets.interact(graphique_clustering_single,nc=(1,10,1))\n",
    "    plt.show()"
   ]
  }
 ],
 "metadata": {
  "kernelspec": {
   "display_name": "Python 3",
   "language": "python",
   "name": "python3"
  },
  "language_info": {
   "codemirror_mode": {
    "name": "ipython",
    "version": 3
   },
   "file_extension": ".py",
   "mimetype": "text/x-python",
   "name": "python",
   "nbconvert_exporter": "python",
   "pygments_lexer": "ipython3",
   "version": "3.10.11"
  },
  "orig_nbformat": 4
 },
 "nbformat": 4,
 "nbformat_minor": 2
}
